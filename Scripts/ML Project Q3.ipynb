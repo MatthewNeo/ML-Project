{
 "cells": [
  {
   "cell_type": "code",
   "execution_count": 18,
   "metadata": {},
   "outputs": [
    {
     "data": {
      "text/plain": [
       "('Tweet', 'START')"
      ]
     },
     "execution_count": 18,
     "metadata": {},
     "output_type": "execute_result"
    }
   ],
   "source": [
    "# To read the file dev.out and represent in suitable format\n",
    "file = open(r\"C:\\Users\\Matthew\\Desktop\\SUTD\\Term 6\\Machine Learning\\ML Project\\EN\\train\", \"r\").read()\n",
    "file = file.split(\"\\n\")\n",
    "readable = [(\"Tweet\", \"START\")]\n",
    "for word in file[:-1]:\n",
    "    if word != '':\n",
    "        word = word.split(\" \")\n",
    "        readable.append((word[0], word[1]))\n",
    "    else:\n",
    "        readable.append((\"/Tweet\", \"STOP\"))\n",
    "        readable.append((\"Tweet\", \"START\"))\n",
    "readable.pop(-1)\n",
    "# It works\n",
    "# for read in readable:\n",
    "#         print(read[0], read[1])"
   ]
  },
  {
   "cell_type": "code",
   "execution_count": 14,
   "metadata": {},
   "outputs": [],
   "source": [
    "# Function estimates transition based on parameters given: tag of word, tag of next word\n",
    "def trans_param_est(y, y_next):\n",
    "    counter_y = 0 # To be denominator of MLE equation\n",
    "    counter_y_next = 0 # To be numerator of MLE equation\n",
    "    for i in range(len(readable)):\n",
    "        if readable[i][1] == y:\n",
    "            counter_y += 1\n",
    "            if readable[i+1][1] == y_next:\n",
    "                counter_y_next += 1\n",
    "    return float(counter_y_next) / float(counter_y)\n",
    "\n",
    "tags = [\"START\", \"O\", \"B-negative\", \"B-positive\", \"B-neutral\", \"I-negative\", \"I-positive\", \"I-neutral\", \"STOP\"]"
   ]
  },
  {
   "cell_type": "code",
   "execution_count": 17,
   "metadata": {},
   "outputs": [
    {
     "name": "stdout",
     "output_type": "stream",
     "text": [
      "Transition parameters of 'START' to 'O': 0.940203\n",
      "Transition parameters of 'START' to 'B-negative': 0.010678\n",
      "Transition parameters of 'START' to 'B-positive': 0.043780\n",
      "Transition parameters of 'START' to 'B-neutral': 0.005339\n",
      "Transition parameters of 'START' to 'I-negative': 0.000000\n",
      "Transition parameters of 'START' to 'I-positive': 0.000000\n",
      "Transition parameters of 'START' to 'I-neutral': 0.000000\n",
      "Transition parameters of 'START' to 'STOP': 0.000000\n",
      "Transition parameters of 'O' to 'START': 0.000000\n",
      "Transition parameters of 'O' to 'B-negative': 0.014933\n",
      "Transition parameters of 'O' to 'B-positive': 0.046448\n",
      "Transition parameters of 'O' to 'B-neutral': 0.002269\n",
      "Transition parameters of 'O' to 'I-negative': 0.000000\n",
      "Transition parameters of 'O' to 'I-positive': 0.000000\n",
      "Transition parameters of 'O' to 'I-neutral': 0.000000\n",
      "Transition parameters of 'O' to 'STOP': 0.076231\n",
      "Transition parameters of 'B-negative' to 'START': 0.000000\n",
      "Transition parameters of 'B-negative' to 'O': 0.782723\n",
      "Transition parameters of 'B-negative' to 'B-positive': 0.000000\n",
      "Transition parameters of 'B-negative' to 'B-neutral': 0.000000\n",
      "Transition parameters of 'B-negative' to 'I-negative': 0.209424\n",
      "Transition parameters of 'B-negative' to 'I-positive': 0.000000\n",
      "Transition parameters of 'B-negative' to 'I-neutral': 0.000000\n",
      "Transition parameters of 'B-negative' to 'STOP': 0.007853\n",
      "Transition parameters of 'B-positive' to 'START': 0.000000\n",
      "Transition parameters of 'B-positive' to 'O': 0.688742\n",
      "Transition parameters of 'B-positive' to 'B-negative': 0.000000\n",
      "Transition parameters of 'B-positive' to 'B-neutral': 0.000000\n",
      "Transition parameters of 'B-positive' to 'I-negative': 0.000000\n",
      "Transition parameters of 'B-positive' to 'I-positive': 0.298013\n",
      "Transition parameters of 'B-positive' to 'I-neutral': 0.000000\n",
      "Transition parameters of 'B-positive' to 'STOP': 0.013245\n",
      "Transition parameters of 'B-neutral' to 'START': 0.000000\n",
      "Transition parameters of 'B-neutral' to 'O': 0.784615\n",
      "Transition parameters of 'B-neutral' to 'B-negative': 0.000000\n",
      "Transition parameters of 'B-neutral' to 'B-positive': 0.000000\n",
      "Transition parameters of 'B-neutral' to 'I-negative': 0.000000\n",
      "Transition parameters of 'B-neutral' to 'I-positive': 0.000000\n",
      "Transition parameters of 'B-neutral' to 'I-neutral': 0.200000\n",
      "Transition parameters of 'B-neutral' to 'STOP': 0.015385\n",
      "Transition parameters of 'I-negative' to 'START': 0.000000\n",
      "Transition parameters of 'I-negative' to 'O': 0.601504\n",
      "Transition parameters of 'I-negative' to 'B-negative': 0.000000\n",
      "Transition parameters of 'I-negative' to 'B-positive': 0.000000\n",
      "Transition parameters of 'I-negative' to 'B-neutral': 0.000000\n",
      "Transition parameters of 'I-negative' to 'I-positive': 0.000000\n",
      "Transition parameters of 'I-negative' to 'I-neutral': 0.000000\n",
      "Transition parameters of 'I-negative' to 'STOP': 0.000000\n",
      "Transition parameters of 'I-positive' to 'START': 0.000000\n",
      "Transition parameters of 'I-positive' to 'O': 0.584843\n",
      "Transition parameters of 'I-positive' to 'B-negative': 0.000000\n",
      "Transition parameters of 'I-positive' to 'B-positive': 0.000000\n",
      "Transition parameters of 'I-positive' to 'B-neutral': 0.000000\n",
      "Transition parameters of 'I-positive' to 'I-negative': 0.000000\n",
      "Transition parameters of 'I-positive' to 'I-neutral': 0.000000\n",
      "Transition parameters of 'I-positive' to 'STOP': 0.008237\n",
      "Transition parameters of 'I-neutral' to 'START': 0.000000\n",
      "Transition parameters of 'I-neutral' to 'O': 0.565217\n",
      "Transition parameters of 'I-neutral' to 'B-negative': 0.000000\n",
      "Transition parameters of 'I-neutral' to 'B-positive': 0.000000\n",
      "Transition parameters of 'I-neutral' to 'B-neutral': 0.000000\n",
      "Transition parameters of 'I-neutral' to 'I-negative': 0.000000\n",
      "Transition parameters of 'I-neutral' to 'I-positive': 0.000000\n",
      "Transition parameters of 'I-neutral' to 'STOP': 0.000000\n"
     ]
    }
   ],
   "source": [
    "# For the rest of the parameters\n",
    "for i in range(len(tags)-1):\n",
    "    for j in range(len(tags)):\n",
    "        if i != j:\n",
    "            print(\"Transition parameters of '%s' to '%s': %f\" % (tags[i], tags[j], trans_param_est(tags[i], tags[j])))"
   ]
  },
  {
   "cell_type": "code",
   "execution_count": null,
   "metadata": {},
   "outputs": [],
   "source": []
  }
 ],
 "metadata": {
  "kernelspec": {
   "display_name": "Python 3",
   "language": "python",
   "name": "python3"
  },
  "language_info": {
   "codemirror_mode": {
    "name": "ipython",
    "version": 3
   },
   "file_extension": ".py",
   "mimetype": "text/x-python",
   "name": "python",
   "nbconvert_exporter": "python",
   "pygments_lexer": "ipython3",
   "version": "3.6.2"
  }
 },
 "nbformat": 4,
 "nbformat_minor": 2
}
